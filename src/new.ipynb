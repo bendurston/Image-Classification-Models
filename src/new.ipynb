{
 "cells": [
  {
   "cell_type": "code",
   "execution_count": 5,
   "metadata": {},
   "outputs": [],
   "source": [
    "import os\n",
    "import numpy as np\n",
    "from dotenv import load_dotenv\n",
    "from data_preprocessing.preprocessing import PreProcessing\n",
    "from model.vgg16 import VGG16\n",
    "\n",
    "HEIGHT = 336\n",
    "WIDTH = 336"
   ]
  },
  {
   "cell_type": "code",
   "execution_count": 6,
   "metadata": {},
   "outputs": [],
   "source": [
    "def split_data(x, y):\n",
    "  x_train = []\n",
    "  y_train = []\n",
    "  x_test = []\n",
    "  y_test = []\n",
    "  split_points = percent_indexes(x)\n",
    "  for index, (xi, yi) in enumerate(zip(x, y)):\n",
    "    # xi_shuffled, yi_shuffled = shuffle_data(xi, yi)\n",
    "    for image_number, (image, output) in enumerate(zip(xi, yi)):\n",
    "      if image_number < split_points[index]:\n",
    "        x_test.append(image)\n",
    "        y_test.append(output)\n",
    "      else:\n",
    "        x_train.append(image)\n",
    "        y_train.append(output)\n",
    "  return x_train, y_train, x_test, y_test\n",
    "  \n",
    "\n",
    "def percent_indexes(x):\n",
    "  split_points = []\n",
    "  for xi in x:\n",
    "    number_of_images = len(xi)\n",
    "    split_point = int(number_of_images*0.2)\n",
    "    split_points.append(split_point)\n",
    "    # print(number_of_images)\n",
    "    # print(split_point)\n",
    "  return split_points\n",
    "\n",
    "def shuffle_data(x, y):\n",
    "  indicies = np.arange(np.array(x).shape[0])\n",
    "  np.random.shuffle(indicies)\n",
    "  x = x[indicies]\n",
    "  y = y[indicies]\n",
    "  return x, y\n",
    "\n"
   ]
  },
  {
   "cell_type": "code",
   "execution_count": 7,
   "metadata": {},
   "outputs": [
    {
     "name": "stdout",
     "output_type": "stream",
     "text": [
      "Read drivers data\n",
      "Read train images\n",
      "Load folder c0\n",
      "Load folder c1\n",
      "Load folder c2\n",
      "Load folder c3\n",
      "Load folder c4\n",
      "Load folder c5\n",
      "Load folder c6\n",
      "Load folder c7\n",
      "Load folder c8\n",
      "Load folder c9\n"
     ]
    }
   ],
   "source": [
    "load_dotenv()\n",
    "PATH = os.getenv('PATH_TO_DATA')\n",
    "p = PreProcessing(PATH)\n",
    "x, y, driver_ids = p.load_data(HEIGHT, WIDTH)"
   ]
  },
  {
   "cell_type": "code",
   "execution_count": 8,
   "metadata": {},
   "outputs": [],
   "source": [
    "x_train, y_train, x_test, y_test = split_data(x, y)"
   ]
  },
  {
   "cell_type": "code",
   "execution_count": 9,
   "metadata": {},
   "outputs": [
    {
     "name": "stdout",
     "output_type": "stream",
     "text": [
      "(17943, 336, 336, 3)\n",
      "(17943,)\n",
      "(4481, 336, 336, 3)\n",
      "(4481,)\n"
     ]
    }
   ],
   "source": [
    "# print(np.array(x).shape)\n",
    "# print(np.array(y).shape)\n",
    "print(np.array(x_train).shape)\n",
    "print(np.array(y_train).shape)\n",
    "print(np.array(x_test).shape)\n",
    "print(np.array(y_test).shape)"
   ]
  }
 ],
 "metadata": {
  "interpreter": {
   "hash": "31f2aee4e71d21fbe5cf8b01ff0e069b9275f58929596ceb00d14d90e3e16cd6"
  },
  "kernelspec": {
   "display_name": "Python 3.8.2 64-bit",
   "language": "python",
   "name": "python3"
  },
  "language_info": {
   "codemirror_mode": {
    "name": "ipython",
    "version": 3
   },
   "file_extension": ".py",
   "mimetype": "text/x-python",
   "name": "python",
   "nbconvert_exporter": "python",
   "pygments_lexer": "ipython3",
   "version": "3.8.2"
  },
  "orig_nbformat": 4
 },
 "nbformat": 4,
 "nbformat_minor": 2
}
